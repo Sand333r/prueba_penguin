{
 "cells": [
  {
   "cell_type": "markdown",
   "metadata": {},
   "source": [
    "1. Escribir una función que tome una lista de números y devuelva el número más grande."
   ]
  },
  {
   "cell_type": "code",
   "execution_count": 2,
   "metadata": {},
   "outputs": [
    {
     "data": {
      "text/plain": [
       "68"
      ]
     },
     "execution_count": 2,
     "metadata": {},
     "output_type": "execute_result"
    }
   ],
   "source": [
    "def num_grande(lista):\n",
    "    num_mayor = 0\n",
    "    for numero in lista:\n",
    "        if numero > num_mayor:\n",
    "            num_mayor = numero\n",
    "    return num_mayor\n",
    "lista_numeros = [1, 2, 3, 4, 5, 6, 7, 8, 68]\n",
    "num_grande(lista_numeros)"
   ]
  },
  {
   "cell_type": "markdown",
   "metadata": {},
   "source": [
    "2. Escribir una función que tome una lista de números y devuelva una lista con los números ordenados de menor a mayor."
   ]
  },
  {
   "cell_type": "code",
   "execution_count": 10,
   "metadata": {},
   "outputs": [
    {
     "data": {
      "text/plain": [
       "[0, 1, 2, 3, 4, 5, 6, 7, 8, 9]"
      ]
     },
     "execution_count": 10,
     "metadata": {},
     "output_type": "execute_result"
    }
   ],
   "source": [
    "def ordenar_numeros(lista):\n",
    "    lista.sort() # Método sort.\n",
    "    return lista\n",
    "num = [9, 5, 1, 2, 4, 8, 3, 6, 7, 0]\n",
    "ordenar_numeros(num)"
   ]
  },
  {
   "cell_type": "markdown",
   "metadata": {},
   "source": [
    "3. Escribir una función que tome una lista de números y devuelva la mediana (el número que está en el centro de la lista cuando está ordenada)."
   ]
  },
  {
   "cell_type": "code",
   "execution_count": 24,
   "metadata": {},
   "outputs": [
    {
     "name": "stdout",
     "output_type": "stream",
     "text": [
      "3.5\n"
     ]
    }
   ],
   "source": [
    "def mediana(lista):\n",
    "    lista_ordenada = sorted(lista) #Ordenar la lista en orden ascendente.\n",
    "    elementos = len(lista_ordenada) # Contar la cantidad de elementos que tiene la lista.\n",
    "    centro = elementos // 2 # Calcular el índice del centro de la lista.\n",
    "    if elementos % 2 == 1: # Si la lista es impar... (O sea, tiene residuo al dividir.)\n",
    "        mediana = lista_ordenada[centro] # El elemento central es la mediana.\n",
    "    else: # Si la lista es par...\n",
    "        mediana = (lista_ordenada[centro-1] + lista_ordenada[centro]) / 2 # Calcula el promedio con una operación de división.\n",
    "    return mediana\n",
    "num = [1, 2, 3, 4, 5, 6, 7]\n",
    "resultado = mediana(num)\n",
    "print(resultado)"
   ]
  }
 ],
 "metadata": {
  "kernelspec": {
   "display_name": "Python 3",
   "language": "python",
   "name": "python3"
  },
  "language_info": {
   "codemirror_mode": {
    "name": "ipython",
    "version": 3
   },
   "file_extension": ".py",
   "mimetype": "text/x-python",
   "name": "python",
   "nbconvert_exporter": "python",
   "pygments_lexer": "ipython3",
   "version": "3.11.5"
  }
 },
 "nbformat": 4,
 "nbformat_minor": 2
}
